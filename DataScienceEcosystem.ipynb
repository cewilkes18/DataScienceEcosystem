{
 "cells": [
  {
   "cell_type": "markdown",
   "id": "8d289e5a",
   "metadata": {},
   "source": [
    "# Data Science Tools and Ecosystem"
   ]
  },
  {
   "cell_type": "markdown",
   "id": "37e09bb9",
   "metadata": {},
   "source": [
    "In this notebook, some of the key tools used for data science as well as key ecosystems are summarized. "
   ]
  },
  {
   "cell_type": "markdown",
   "id": "6de83f4b",
   "metadata": {},
   "source": [
    "**Objectives:**\n",
    "- Explore the different languages data scientists use\n",
    "- Learn some popular libraries that are used every day in industry\n",
    "- Learn how to make markdown cells in Jupyter Notebook\n",
    "- Become familar with Github and how to upload onto it\n"
   ]
  },
  {
   "cell_type": "markdown",
   "id": "be3b7804",
   "metadata": {},
   "source": [
    "## Author\n",
    "Caitlin Wilkes"
   ]
  },
  {
   "cell_type": "markdown",
   "id": "f90f06ef",
   "metadata": {},
   "source": [
    "Some popular languages in data science are:\n",
    "1. Python\n",
    "2. SQL\n",
    "3. R\n"
   ]
  },
  {
   "cell_type": "markdown",
   "id": "e10e6f69",
   "metadata": {},
   "source": [
    "Some popular libriaries commonly used by data scientists are:\n",
    "1. Pandas\n",
    "2. Numpy\n",
    "3. TensorFlow\n",
    "4. SciPy"
   ]
  },
  {
   "cell_type": "markdown",
   "id": "12e31841",
   "metadata": {},
   "source": [
    "|Data Science Tools|\n",
    "|------------------|\n",
    "|Apache Hadoop|\n",
    "|R Studio|\n",
    "|Julia|\n"
   ]
  },
  {
   "cell_type": "markdown",
   "id": "2b398991",
   "metadata": {},
   "source": [
    "### Below are a few examples of simple arithmetic in the Python language. "
   ]
  },
  {
   "cell_type": "code",
   "execution_count": 1,
   "id": "0e7d12fc",
   "metadata": {},
   "outputs": [
    {
     "data": {
      "text/plain": [
       "17"
      ]
     },
     "execution_count": 1,
     "metadata": {},
     "output_type": "execute_result"
    }
   ],
   "source": [
    "# This is a simple equation to show how to multiply and then add integers. \n",
    "(3*4)+5"
   ]
  },
  {
   "cell_type": "code",
   "execution_count": 2,
   "id": "84666ba5",
   "metadata": {},
   "outputs": [
    {
     "data": {
      "text/plain": [
       "3.3333333333333335"
      ]
     },
     "execution_count": 2,
     "metadata": {},
     "output_type": "execute_result"
    }
   ],
   "source": [
    "# The following will convert 200 minutes into hours by dividing by 60. \n",
    "200/60"
   ]
  },
  {
   "cell_type": "markdown",
   "id": "244e5079",
   "metadata": {},
   "source": []
  },
  {
   "cell_type": "code",
   "execution_count": null,
   "id": "60483982",
   "metadata": {},
   "outputs": [],
   "source": []
  },
  {
   "cell_type": "code",
   "execution_count": null,
   "id": "0b29c408",
   "metadata": {},
   "outputs": [],
   "source": []
  },
  {
   "cell_type": "code",
   "execution_count": null,
   "id": "36bc4748",
   "metadata": {},
   "outputs": [],
   "source": []
  },
  {
   "cell_type": "code",
   "execution_count": null,
   "id": "d7a71ceb",
   "metadata": {},
   "outputs": [],
   "source": []
  },
  {
   "cell_type": "code",
   "execution_count": null,
   "id": "3bbb5bc2",
   "metadata": {},
   "outputs": [],
   "source": []
  }
 ],
 "metadata": {
  "kernelspec": {
   "display_name": "Python 3 (ipykernel)",
   "language": "python",
   "name": "python3"
  },
  "language_info": {
   "codemirror_mode": {
    "name": "ipython",
    "version": 3
   },
   "file_extension": ".py",
   "mimetype": "text/x-python",
   "name": "python",
   "nbconvert_exporter": "python",
   "pygments_lexer": "ipython3",
   "version": "3.10.9"
  }
 },
 "nbformat": 4,
 "nbformat_minor": 5
}
